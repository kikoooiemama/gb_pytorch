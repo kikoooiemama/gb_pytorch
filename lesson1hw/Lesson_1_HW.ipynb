{
 "cells": [
  {
   "cell_type": "markdown",
   "metadata": {},
   "source": [
    "# Практическое задание №1 по теме \"Основные понятия и структуры PyTorch\"."
   ]
  },
  {
   "cell_type": "code",
   "execution_count": 1,
   "metadata": {
    "id": "_CNZn_3CofVO"
   },
   "outputs": [],
   "source": [
    "import torch"
   ]
  },
  {
   "cell_type": "markdown",
   "metadata": {
    "id": "QGYTKAxeofVR"
   },
   "source": [
    "### 1. Создайте случайный FloatTensor размера 3x4x5"
   ]
  },
  {
   "cell_type": "code",
   "execution_count": 2,
   "metadata": {},
   "outputs": [
    {
     "name": "stdout",
     "output_type": "stream",
     "text": [
      "torch.float32\n",
      "torch.FloatTensor\n"
     ]
    },
    {
     "data": {
      "text/plain": [
       "tensor([[[9.1390e-01, 8.8830e-01, 3.6104e-02, 4.7720e-01, 9.9857e-01],\n",
       "         [3.7329e-01, 3.7007e-01, 1.9591e-01, 9.4086e-01, 1.9522e-01],\n",
       "         [2.5021e-02, 2.9524e-01, 9.2736e-01, 2.5295e-01, 4.7489e-02],\n",
       "         [8.0966e-01, 8.6112e-01, 1.2336e-02, 7.9773e-02, 6.9382e-01]],\n",
       "\n",
       "        [[1.0156e-01, 1.5217e-04, 1.1657e-01, 6.9813e-01, 8.3088e-01],\n",
       "         [6.1677e-01, 7.1431e-01, 9.9317e-02, 9.5901e-01, 7.9890e-01],\n",
       "         [8.6716e-01, 9.2225e-01, 2.9127e-01, 5.0685e-01, 9.1246e-01],\n",
       "         [7.0246e-01, 5.1654e-01, 3.8454e-01, 2.1813e-01, 3.8807e-01]],\n",
       "\n",
       "        [[2.0477e-02, 9.3470e-01, 7.9213e-01, 1.1626e-01, 7.2893e-01],\n",
       "         [1.0428e-01, 4.9893e-02, 1.3422e-01, 6.7184e-01, 3.0909e-01],\n",
       "         [5.6971e-01, 7.1704e-01, 3.7983e-01, 2.2195e-01, 2.7222e-01],\n",
       "         [6.8299e-02, 9.9418e-01, 5.8450e-03, 1.4103e-01, 1.8857e-01]]])"
      ]
     },
     "execution_count": 2,
     "metadata": {},
     "output_type": "execute_result"
    }
   ],
   "source": [
    "a = torch.rand(3,4,5,)\n",
    "print(a.dtype)\n",
    "print(a.type())\n",
    "a"
   ]
  },
  {
   "cell_type": "markdown",
   "metadata": {
    "id": "7GV_q8DdofVV"
   },
   "source": [
    "### 2. Выведите его форму (shape)"
   ]
  },
  {
   "cell_type": "code",
   "execution_count": 3,
   "metadata": {},
   "outputs": [
    {
     "data": {
      "text/plain": [
       "torch.Size([3, 4, 5])"
      ]
     },
     "execution_count": 3,
     "metadata": {},
     "output_type": "execute_result"
    }
   ],
   "source": [
    "a.shape"
   ]
  },
  {
   "cell_type": "code",
   "execution_count": 4,
   "metadata": {},
   "outputs": [
    {
     "data": {
      "text/plain": [
       "torch.Size([3, 4, 5])"
      ]
     },
     "execution_count": 4,
     "metadata": {},
     "output_type": "execute_result"
    }
   ],
   "source": [
    "a.size()"
   ]
  },
  {
   "cell_type": "markdown",
   "metadata": {
    "id": "f1OTy65FofVX"
   },
   "source": [
    "### 3. Приведите его к форме 6х10"
   ]
  },
  {
   "cell_type": "code",
   "execution_count": 5,
   "metadata": {},
   "outputs": [
    {
     "name": "stdout",
     "output_type": "stream",
     "text": [
      "torch.Size([6, 10])\n"
     ]
    },
    {
     "data": {
      "text/plain": [
       "tensor([[9.1390e-01, 8.8830e-01, 3.6104e-02, 4.7720e-01, 9.9857e-01, 3.7329e-01,\n",
       "         3.7007e-01, 1.9591e-01, 9.4086e-01, 1.9522e-01],\n",
       "        [2.5021e-02, 2.9524e-01, 9.2736e-01, 2.5295e-01, 4.7489e-02, 8.0966e-01,\n",
       "         8.6112e-01, 1.2336e-02, 7.9773e-02, 6.9382e-01],\n",
       "        [1.0156e-01, 1.5217e-04, 1.1657e-01, 6.9813e-01, 8.3088e-01, 6.1677e-01,\n",
       "         7.1431e-01, 9.9317e-02, 9.5901e-01, 7.9890e-01],\n",
       "        [8.6716e-01, 9.2225e-01, 2.9127e-01, 5.0685e-01, 9.1246e-01, 7.0246e-01,\n",
       "         5.1654e-01, 3.8454e-01, 2.1813e-01, 3.8807e-01],\n",
       "        [2.0477e-02, 9.3470e-01, 7.9213e-01, 1.1626e-01, 7.2893e-01, 1.0428e-01,\n",
       "         4.9893e-02, 1.3422e-01, 6.7184e-01, 3.0909e-01],\n",
       "        [5.6971e-01, 7.1704e-01, 3.7983e-01, 2.2195e-01, 2.7222e-01, 6.8299e-02,\n",
       "         9.9418e-01, 5.8450e-03, 1.4103e-01, 1.8857e-01]])"
      ]
     },
     "execution_count": 5,
     "metadata": {},
     "output_type": "execute_result"
    }
   ],
   "source": [
    "a = a.reshape(6, 10)\n",
    "print(a.shape)\n",
    "a"
   ]
  },
  {
   "cell_type": "markdown",
   "metadata": {
    "id": "BEVOv9_TofVe"
   },
   "source": [
    "### 4. Создайте случайный IntTensor размера 10"
   ]
  },
  {
   "cell_type": "code",
   "execution_count": 6,
   "metadata": {},
   "outputs": [
    {
     "name": "stdout",
     "output_type": "stream",
     "text": [
      "torch.Size([10])\n"
     ]
    },
    {
     "data": {
      "text/plain": [
       "tensor([1, 3, 6, 9, 1, 4, 6, 7, 5, 1])"
      ]
     },
     "execution_count": 6,
     "metadata": {},
     "output_type": "execute_result"
    }
   ],
   "source": [
    "b = torch.randint(1, 10, size=(10,))\n",
    "print(b.shape)\n",
    "b"
   ]
  },
  {
   "cell_type": "markdown",
   "metadata": {
    "id": "TAX3DUiSa07K"
   },
   "source": [
    "### 5. Умножьте созданный FloatTensor на созданный IntTensor поэлементно"
   ]
  },
  {
   "cell_type": "code",
   "execution_count": 7,
   "metadata": {},
   "outputs": [
    {
     "name": "stdout",
     "output_type": "stream",
     "text": [
      "torch.Size([6, 10])\n"
     ]
    },
    {
     "data": {
      "text/plain": [
       "tensor([[9.1390e-01, 2.6649e+00, 2.1663e-01, 4.2948e+00, 9.9857e-01, 1.4931e+00,\n",
       "         2.2204e+00, 1.3714e+00, 4.7043e+00, 1.9522e-01],\n",
       "        [2.5021e-02, 8.8571e-01, 5.5642e+00, 2.2765e+00, 4.7489e-02, 3.2386e+00,\n",
       "         5.1667e+00, 8.6353e-02, 3.9887e-01, 6.9382e-01],\n",
       "        [1.0156e-01, 4.5651e-04, 6.9939e-01, 6.2832e+00, 8.3088e-01, 2.4671e+00,\n",
       "         4.2859e+00, 6.9522e-01, 4.7950e+00, 7.9890e-01],\n",
       "        [8.6716e-01, 2.7667e+00, 1.7476e+00, 4.5616e+00, 9.1246e-01, 2.8098e+00,\n",
       "         3.0992e+00, 2.6918e+00, 1.0906e+00, 3.8807e-01],\n",
       "        [2.0477e-02, 2.8041e+00, 4.7528e+00, 1.0463e+00, 7.2893e-01, 4.1713e-01,\n",
       "         2.9936e-01, 9.3955e-01, 3.3592e+00, 3.0909e-01],\n",
       "        [5.6971e-01, 2.1511e+00, 2.2790e+00, 1.9976e+00, 2.7222e-01, 2.7320e-01,\n",
       "         5.9651e+00, 4.0915e-02, 7.0515e-01, 1.8857e-01]])"
      ]
     },
     "execution_count": 7,
     "metadata": {},
     "output_type": "execute_result"
    }
   ],
   "source": [
    "c = a.mul(b)\n",
    "print(c.shape)\n",
    "c"
   ]
  },
  {
   "cell_type": "markdown",
   "metadata": {
    "id": "eUxdWlQZofVi"
   },
   "source": [
    "### 6. Умножьте тензор матрично на себя, чтобы результат был размерности 6x6"
   ]
  },
  {
   "cell_type": "code",
   "execution_count": 8,
   "metadata": {},
   "outputs": [
    {
     "name": "stdout",
     "output_type": "stream",
     "text": [
      "torch.Size([6, 6])\n"
     ]
    },
    {
     "data": {
      "text/plain": [
       "tensor([[58.6349, 31.8515, 64.9269, 49.0214, 32.1814, 32.6608],\n",
       "        [31.8515, 74.7616, 50.8986, 48.6738, 35.8792, 51.2808],\n",
       "        [64.9269, 50.8986, 89.2375, 58.3573, 29.8269, 44.2298],\n",
       "        [49.0214, 48.6738, 58.3573, 59.1882, 29.9326, 39.9959],\n",
       "        [32.1814, 35.8792, 29.8269, 29.9326, 44.6046, 23.5287],\n",
       "        [32.6608, 51.2808, 44.2298, 39.9959, 23.5287, 50.4011]])"
      ]
     },
     "execution_count": 8,
     "metadata": {},
     "output_type": "execute_result"
    }
   ],
   "source": [
    "d = torch.matmul(c, c.T)\n",
    "print(d.shape)\n",
    "d"
   ]
  },
  {
   "cell_type": "markdown",
   "metadata": {
    "id": "u3V6CsNkofVj"
   },
   "source": [
    "### 7. Посчитайте производную функции y = x**3 + z - 75t в точке (1, 0.5, 2)"
   ]
  },
  {
   "cell_type": "code",
   "execution_count": 9,
   "metadata": {},
   "outputs": [],
   "source": [
    "x = torch.tensor(1.0, requires_grad=True)\n",
    "z = torch.tensor(0.5, requires_grad=True)\n",
    "t = torch.tensor(2.0, requires_grad=True)\n",
    "\n",
    "y = x**3 + z - 75*t"
   ]
  },
  {
   "cell_type": "code",
   "execution_count": 10,
   "metadata": {},
   "outputs": [],
   "source": [
    "y.backward()"
   ]
  },
  {
   "cell_type": "code",
   "execution_count": 11,
   "metadata": {},
   "outputs": [
    {
     "name": "stdout",
     "output_type": "stream",
     "text": [
      "dy/dx(1, 0.5, 2) = 3.0\n",
      "dy/dz(1, 0.5, 2) = 1.0\n",
      "dy/dt(1, 0.5, 2) = -75.0\n"
     ]
    }
   ],
   "source": [
    "print(f\"dy/dx(1, 0.5, 2) = {x.grad}\")\n",
    "print(f\"dy/dz(1, 0.5, 2) = {z.grad}\")\n",
    "print(f\"dy/dt(1, 0.5, 2) = {t.grad}\")"
   ]
  },
  {
   "cell_type": "markdown",
   "metadata": {
    "id": "FzH6QkyxofVm"
   },
   "source": [
    "### 8. Создайте единичный тензор размера 5x6"
   ]
  },
  {
   "cell_type": "code",
   "execution_count": 12,
   "metadata": {
    "scrolled": true
   },
   "outputs": [
    {
     "name": "stdout",
     "output_type": "stream",
     "text": [
      "torch.Size([5, 6])\n"
     ]
    },
    {
     "data": {
      "text/plain": [
       "tensor([[1., 1., 1., 1., 1., 1.],\n",
       "        [1., 1., 1., 1., 1., 1.],\n",
       "        [1., 1., 1., 1., 1., 1.],\n",
       "        [1., 1., 1., 1., 1., 1.],\n",
       "        [1., 1., 1., 1., 1., 1.]])"
      ]
     },
     "execution_count": 12,
     "metadata": {},
     "output_type": "execute_result"
    }
   ],
   "source": [
    "e = torch.ones(5,6,)\n",
    "print(e.shape)\n",
    "e"
   ]
  },
  {
   "cell_type": "markdown",
   "metadata": {
    "id": "z49ttvWPofVo"
   },
   "source": [
    "### 9. Переведите его в формат numpy"
   ]
  },
  {
   "cell_type": "code",
   "execution_count": 13,
   "metadata": {},
   "outputs": [
    {
     "name": "stdout",
     "output_type": "stream",
     "text": [
      "(5, 6)\n"
     ]
    },
    {
     "data": {
      "text/plain": [
       "array([[1., 1., 1., 1., 1., 1.],\n",
       "       [1., 1., 1., 1., 1., 1.],\n",
       "       [1., 1., 1., 1., 1., 1.],\n",
       "       [1., 1., 1., 1., 1., 1.],\n",
       "       [1., 1., 1., 1., 1., 1.]], dtype=float32)"
      ]
     },
     "execution_count": 13,
     "metadata": {},
     "output_type": "execute_result"
    }
   ],
   "source": [
    "e = e.numpy()\n",
    "print(e.shape)\n",
    "e"
   ]
  },
  {
   "cell_type": "markdown",
   "metadata": {},
   "source": [
    "---"
   ]
  }
 ],
 "metadata": {
  "colab": {
   "provenance": []
  },
  "kernelspec": {
   "display_name": "Python 3 (ipykernel)",
   "language": "python",
   "name": "python3"
  },
  "language_info": {
   "codemirror_mode": {
    "name": "ipython",
    "version": 3
   },
   "file_extension": ".py",
   "mimetype": "text/x-python",
   "name": "python",
   "nbconvert_exporter": "python",
   "pygments_lexer": "ipython3",
   "version": "3.10.9"
  }
 },
 "nbformat": 4,
 "nbformat_minor": 1
}
